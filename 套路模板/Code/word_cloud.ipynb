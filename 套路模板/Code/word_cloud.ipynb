{
 "cells": [
  {
   "cell_type": "code",
   "execution_count": 135,
   "metadata": {},
   "outputs": [],
   "source": [
    "import jieba \n",
    "from PIL import Image\n",
    "import numpy as np \n",
    "from wordcloud import * \n",
    "import re \n",
    "import matplotlib.pyplot as plt\n",
    "import collections"
   ]
  },
  {
   "cell_type": "code",
   "execution_count": 136,
   "metadata": {},
   "outputs": [],
   "source": [
    "# 规范输入\n",
    "fn = open('后来.txt', 'r', encoding='utf-8')\n",
    "string_data = fn.read()\n",
    "seg_list_exact = jieba.cut(string_data, cut_all = False) # 精确模式分词\n",
    "object_list = []\n",
    "remove_words = ['\\n', ',', ':', u'的', u'，',u'和', u'是', u'随着', u'对于',u'对',u'等',u'能',u'都',u'。',\n",
    "u' ',u'、',u'中',u'在',u'了',u'通常',u'如果',u'我们',u'需要'] # 自定义去除词库\n",
    "\n",
    "for word in seg_list_exact: # 循环读出每个分词\n",
    "    if word not in remove_words: # 如果不在去除词库中\n",
    "        object_list.append(word) # 分词追加到列表\n",
    "\n",
    "# 词频统计\n",
    "word_counts = collections.Counter(object_list) # 对分词做词频统计\n",
    "word_counts = dict(word_counts) # wordcloud 输入为dict  {'词':'次数'}"
   ]
  },
  {
   "cell_type": "code",
   "execution_count": 139,
   "metadata": {},
   "outputs": [
    {
     "data": {
      "image/png": "[encoded data removed]",
      "text/plain": [
       "<Figure size 432x288 with 1 Axes>"
      ]
     },
     "metadata": {},
     "output_type": "display_data"
    },
    {
     "data": {
      "text/plain": [
       "<wordcloud.wordcloud.WordCloud at 0x11c0f6320>"
      ]
     },
     "execution_count": 139,
     "metadata": {},
     "output_type": "execute_result"
    }
   ],
   "source": [
    "# 设定参数\n",
    "input_img = 'pig.jpeg'\n",
    "output_img = 'output.jpg'\n",
    "font_path = './Fonts/simhei.ttf'\n",
    "background_color = 'white'\n",
    "repeat = True\n",
    "max_words = 300\n",
    "\n",
    "# 绘制词云\n",
    "maskover = np.array(Image.open(input_img))\n",
    "img_color = ImageColorGenerator(maskover)\n",
    "w = WordCloud(width=400, height=200, scale=4, background_color=background_color, \n",
    "              max_words=max_words, prefer_horizontal=0.1,mask=maskover, max_font_size=100,\n",
    "              repeat=repeat,font_path=font_path).generate_from_frequencies(word_counts)\n",
    "plt.imshow(w)\n",
    "plt.imshow(w.recolor(color_func=img_color))\n",
    "plt.axis('off')\n",
    "plt.show()\n",
    "w.to_file(output_img)\n",
    "\n"
   ]
  },
  {
   "cell_type": "code",
   "execution_count": 134,
   "metadata": {},
   "outputs": [
    {
     "data": {
      "text/plain": [
       "1"
      ]
     },
     "execution_count": 134,
     "metadata": {},
     "output_type": "execute_result"
    }
   ],
   "source": [
    "# help\n",
    "\"\"\"\n",
    "font_path : string  #字体路径，需要展现什么字体就把该字体路径+后缀名写上，如：font_path = '黑体.ttf'\n",
    "\n",
    "width : int (default=400) #输出的画布宽度，默认为400像素\n",
    "\n",
    "height : int (default=200) #输出的画布高度，默认为200像素\n",
    "\n",
    "prefer_horizontal : float (default=0.90) #词语水平方向排版出现的频率，默认 0.9 （所以词语垂直方向排版出现频率为 0.1 ）\n",
    "\n",
    "mask : nd-array or None (default=None) #如果参数为空，则使用二维遮罩绘制词云。如果 mask 非空，设置的宽高值将被忽略，遮罩形状被 mask 取代。除全白（#FFFFFF）的部分将不会绘制，其余部分会用于绘制词云。如：bg_pic = imread('读取一张图片.png')，背景图片的画布一定要设置为白色（#FFFFFF），然后显示的形状为不是白色的其他颜色。可以用ps工具将自己要显示的形状复制到一个纯白色的画布上再保存，就ok了。\n",
    "\n",
    "scale : float (default=1) #按照比例进行放大画布，如设置为1.5，则长和宽都是原来画布的1.5倍\n",
    "\n",
    "min_font_size : int (default=4) #显示的最小的字体大小\n",
    "\n",
    "font_step : int (default=1) #字体步长，如果步长大于1，会加快运算但是可能导致结果出现较大的误差\n",
    "\n",
    "max_words : number (default=200) #要显示的词的最大个数\n",
    "\n",
    "stopwords : set of strings or None #设置需要屏蔽的词，如果为空，则使用内置的STOPWORDS\n",
    "\n",
    "background_color : color value (default=”black”) #背景颜色，如background_color='white',背景颜色为白色\n",
    "\n",
    "max_font_size : int or None (default=None) #显示的最大的字体大小\n",
    "\n",
    "mode : string (default=”RGB”) #当参数为“RGBA”并且background_color不为空时，背景为透明\n",
    "\n",
    "relative_scaling : float (default=.5) #词频和字体大小的关联性\n",
    "\n",
    "color_func : callable, default=None #生成新颜色的函数，如果为空，则使用 self.color_func\n",
    "\n",
    "regexp : string or None (optional) #使用正则表达式分隔输入的文本\n",
    "\n",
    "collocations : bool, default=True #是否包括两个词的搭配\n",
    "\n",
    "colormap : string or matplotlib colormap, default=”viridis” #给每个单词随机分配颜色，若指定color_func，则忽略该方法\n",
    "\n",
    "random_state : int or None  #为每个单词返回一个PIL颜色\n",
    "\n",
    "\n",
    "fit_words(frequencies)  #根据词频生成词云\n",
    "generate(text)  #根据文本生成词云\n",
    "generate_from_frequencies(frequencies[, ...])   #根据词频生成词云\n",
    "generate_from_text(text)    #根据文本生成词云\n",
    "process_text(text)  #将长文本分词并去除屏蔽词（此处指英语，中文分词还是需要自己用别的库先行实现，使用上面的 fit_words(frequencies) ）\n",
    "recolor([random_state, color_func, colormap])   #对现有输出重新着色。重新上色会比重新生成整个词云快很多\n",
    "to_array()  #转化为 numpy array\n",
    "to_file(filename)   #输出到文件\n",
    "\"\"\"\n",
    "1"
   ]
  },
  {
   "cell_type": "code",
   "execution_count": null,
   "metadata": {},
   "outputs": [],
   "source": []
  }
 ],
 "metadata": {
  "kernelspec": {
   "display_name": "Python 3",
   "language": "python",
   "name": "python3"
  },
  "language_info": {
   "codemirror_mode": {
    "name": "ipython",
    "version": 3
   },
   "file_extension": ".py",
   "mimetype": "text/x-python",
   "name": "python",
   "nbconvert_exporter": "python",
   "pygments_lexer": "ipython3",
   "version": "3.6.5"
  }
 },
 "nbformat": 4,
 "nbformat_minor": 2
}
